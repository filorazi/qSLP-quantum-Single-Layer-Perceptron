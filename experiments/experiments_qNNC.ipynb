{
 "cells": [
  {
   "cell_type": "code",
   "execution_count": 28,
   "metadata": {},
   "outputs": [],
   "source": [
    "import sys\n",
    "sys.path.append('..\\.')\n",
    "from utils.qSLP import qSLP\n",
    "from utils.Utils import get_params, parity\n",
    "from utils.import_data import get_dataset\n",
    "\n",
    "import numpy as np\n",
    "import pandas as pd\n",
    "import matplotlib.pyplot as plt\n",
    "\n",
    "from qiskit.utils import QuantumInstance\n",
    "from qiskit.algorithms.optimizers import COBYLA\n",
    "from qiskit import Aer, QuantumCircuit\n",
    "from qiskit.circuit.library import ZZFeatureMap, ZFeatureMap\n",
    "from qiskit.circuit.library import RealAmplitudes\n",
    "from qiskit_machine_learning.neural_networks import CircuitQNN\n",
    "from qiskit_machine_learning.algorithms.classifiers import NeuralNetworkClassifier\n",
    "\n",
    "from sklearn.metrics import accuracy_score\n",
    "\n",
    "seed = 42\n",
    "max_iter = 150"
   ]
  },
  {
   "cell_type": "code",
   "execution_count": 17,
   "metadata": {},
   "outputs": [],
   "source": [
    "def get_qNNC(version = 1):\n",
    "    if version == 1:\n",
    "        feature_map = ZZFeatureMap(feature_dimension=2,\n",
    "                            reps=1, entanglement='linear')\n",
    "        ansatz = RealAmplitudes(2, reps=1)\n",
    "\n",
    "    elif version == 2:\n",
    "        feature_map = ZFeatureMap(feature_dimension=2,\n",
    "                                reps=1)\n",
    "        ansatz = RealAmplitudes(2, reps=2)\n",
    "\n",
    "    else:\n",
    "        raise Exception(\"Version not implemented\")\n",
    "    \n",
    "    return feature_map, ansatz\n"
   ]
  },
  {
   "cell_type": "markdown",
   "metadata": {},
   "source": [
    "## Set the specification for the model"
   ]
  },
  {
   "cell_type": "code",
   "execution_count": 23,
   "metadata": {},
   "outputs": [],
   "source": [
    "# Change version to change the qnnc model\n",
    "version = 1\n",
    "\n",
    "# Change to change the dataset\n",
    "dataset = \"iris01\"\n",
    "\n",
    "# model required variable\n",
    "tot_qubit = 2\n",
    "output_shape = 2\n"
   ]
  },
  {
   "cell_type": "markdown",
   "metadata": {},
   "source": [
    "## Training of the model\n",
    "We train the qSLP model starting from given starting points\n"
   ]
  },
  {
   "cell_type": "code",
   "execution_count": 30,
   "metadata": {},
   "outputs": [],
   "source": [
    "\n",
    "model_name = f\"qNNC_v{version}\"\n",
    "\n",
    "#function that returns the best parameters for a given model\n",
    "starting_points = get_params(model_name, dataset, \"starting_points\", \"../results/training/file_result.txt\")\n"
   ]
  },
  {
   "cell_type": "markdown",
   "metadata": {},
   "source": [
    "### Obtain the dataset\n",
    "The dataset is processed through the use a PCA in order to use only two high descriptive features. \n"
   ]
  },
  {
   "cell_type": "code",
   "execution_count": 25,
   "metadata": {},
   "outputs": [
    {
     "name": "stdout",
     "output_type": "stream",
     "text": [
      "[0.90539269 0.07445563]\n",
      "98.0% of total variance is explained by 2 principal components\n"
     ]
    }
   ],
   "source": [
    "X_train, X_test, Y_train, Y_test = get_dataset(dataset)"
   ]
  },
  {
   "cell_type": "markdown",
   "metadata": {},
   "source": [
    "### Set the optimizer and the quantum instance\n"
   ]
  },
  {
   "cell_type": "code",
   "execution_count": 26,
   "metadata": {},
   "outputs": [],
   "source": [
    "optimizer = COBYLA(maxiter=max_iter, tol=0.01, disp=False)\n",
    "qinstance = QuantumInstance(Aer.get_backend('aer_simulator'),seed_simulator=seed,seed_transpiler=seed, shots=1024)\n",
    "qinstance.backend.set_option(\"seed_simulator\", seed)\n"
   ]
  },
  {
   "cell_type": "markdown",
   "metadata": {},
   "source": [
    "### The model \n",
    "Build the model with the chosen parameters.\n"
   ]
  },
  {
   "cell_type": "code",
   "execution_count": 31,
   "metadata": {},
   "outputs": [],
   "source": [
    "feature_map, ansatz = get_qNNC(1)\n",
    "interpreter = parity \n",
    "qc = QuantumCircuit(tot_qubit)\n",
    "qc.append(feature_map, range(tot_qubit))\n",
    "qc.append(ansatz, range(tot_qubit))\n",
    "\n",
    "objective_func_vals = []\n",
    "def callback_values(weights, obj_func_eval):\n",
    "    objective_func_vals.append(obj_func_eval)\n",
    "\n",
    "circuit_qnn = CircuitQNN(circuit=qc,\n",
    "                        input_params=feature_map.parameters,\n",
    "                        weight_params=ansatz.parameters,\n",
    "                        interpret=interpreter,\n",
    "                        output_shape=output_shape,\n",
    "                        quantum_instance=qinstance)\n",
    "\n",
    "circuit_classifier = NeuralNetworkClassifier(neural_network=circuit_qnn,\n",
    "                                        optimizer=optimizer,\n",
    "                                        callback=callback_values, \n",
    "                                        warm_start=True,\n",
    "                                        initial_point = starting_points )\n",
    "\n",
    "\n"
   ]
  },
  {
   "cell_type": "markdown",
   "metadata": {},
   "source": [
    "## Training\n"
   ]
  },
  {
   "cell_type": "code",
   "execution_count": 33,
   "metadata": {},
   "outputs": [
    {
     "data": {
      "text/plain": [
       "<qiskit_machine_learning.algorithms.classifiers.neural_network_classifier.NeuralNetworkClassifier at 0x22a6a8098c8>"
      ]
     },
     "execution_count": 33,
     "metadata": {},
     "output_type": "execute_result"
    }
   ],
   "source": [
    "circuit_classifier.fit(X_train, Y_train)\n"
   ]
  },
  {
   "cell_type": "code",
   "execution_count": 36,
   "metadata": {},
   "outputs": [],
   "source": [
    "train_score = circuit_classifier.score(X_train, Y_train)\n",
    "test_score = circuit_classifier.score(X_test, Y_test)\n"
   ]
  },
  {
   "cell_type": "code",
   "execution_count": 38,
   "metadata": {},
   "outputs": [
    {
     "name": "stdout",
     "output_type": "stream",
     "text": [
      "0.9\n",
      "0.95\n"
     ]
    }
   ],
   "source": [
    "print(train_score)\n",
    "print(test_score)"
   ]
  },
  {
   "cell_type": "code",
   "execution_count": 39,
   "metadata": {},
   "outputs": [],
   "source": [
    "ending_points = circuit_classifier._fit_result[0]\n"
   ]
  },
  {
   "cell_type": "code",
   "execution_count": 40,
   "metadata": {},
   "outputs": [
    {
     "data": {
      "text/plain": [
       "[0.09390477293309543,\n",
       " 1.5886292417212462,\n",
       " -0.9110389376309079,\n",
       " 0.4951799698639165]"
      ]
     },
     "execution_count": 40,
     "metadata": {},
     "output_type": "execute_result"
    }
   ],
   "source": [
    "get_params(model_name, dataset, \"ending_points\", \"../results/training/file_result.txt\")"
   ]
  },
  {
   "cell_type": "code",
   "execution_count": 41,
   "metadata": {},
   "outputs": [
    {
     "data": {
      "text/plain": [
       "array([ 0.09390477,  1.58862924, -0.91103894,  0.49517997])"
      ]
     },
     "execution_count": 41,
     "metadata": {},
     "output_type": "execute_result"
    }
   ],
   "source": [
    "ending_points"
   ]
  }
 ],
 "metadata": {
  "interpreter": {
   "hash": "05b5db03c550bbb1dd6fa082dd54ebcd6c9bc656038265289f06ff834c67727f"
  },
  "kernelspec": {
   "display_name": "Python 3.7.11 ('tesi3')",
   "language": "python",
   "name": "python3"
  },
  "language_info": {
   "codemirror_mode": {
    "name": "ipython",
    "version": 3
   },
   "file_extension": ".py",
   "mimetype": "text/x-python",
   "name": "python",
   "nbconvert_exporter": "python",
   "pygments_lexer": "ipython3",
   "version": "3.7.11"
  },
  "orig_nbformat": 4
 },
 "nbformat": 4,
 "nbformat_minor": 2
}
