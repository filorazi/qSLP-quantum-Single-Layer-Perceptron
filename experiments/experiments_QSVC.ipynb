{
 "cells": [
  {
   "cell_type": "code",
   "execution_count": 1,
   "metadata": {},
   "outputs": [
    {
     "name": "stderr",
     "output_type": "stream",
     "text": [
      "D:\\conda\\envs\\tesi3\\lib\\site-packages\\qiskit\\aqua\\__init__.py:86: DeprecationWarning: The package qiskit.aqua is deprecated. It was moved/refactored to qiskit-terra For more information see <https://github.com/Qiskit/qiskit-aqua/blob/main/README.md#migration-guide>\n",
      "  warn_package('aqua', 'qiskit-terra')\n"
     ]
    }
   ],
   "source": [
    "import sys\n",
    "sys.path.append('..\\.')\n",
    "from utils.qSLP import qSLP\n",
    "from utils.Utils import get_params, parity\n",
    "from utils.import_data import get_dataset\n",
    "\n",
    "import numpy as np\n",
    "import pandas as pd\n",
    "import matplotlib.pyplot as plt\n",
    "\n",
    "from qiskit.utils import QuantumInstance\n",
    "from qiskit.algorithms.optimizers import COBYLA\n",
    "from qiskit import Aer, QuantumCircuit\n",
    "from qiskit.circuit.library import ZZFeatureMap, ZFeatureMap\n",
    "from qiskit.circuit.library import RealAmplitudes\n",
    "from qiskit_machine_learning.neural_networks import CircuitQNN\n",
    "from qiskit_machine_learning.algorithms.classifiers import NeuralNetworkClassifier\n",
    "\n",
    "from sklearn.metrics import accuracy_score\n",
    "\n",
    "seed = 42\n",
    "max_iter = 150"
   ]
  },
  {
   "cell_type": "code",
   "execution_count": 2,
   "metadata": {},
   "outputs": [],
   "source": [
    "def get_qNNC(version = 1):\n",
    "    if version == 1:\n",
    "        feature_map = ZZFeatureMap(feature_dimension=2,\n",
    "                            reps=1, entanglement='linear')\n",
    "        ansatz = RealAmplitudes(2, reps=1)\n",
    "\n",
    "    elif version == 2:\n",
    "        feature_map = ZFeatureMap(feature_dimension=2,\n",
    "                                reps=1)\n",
    "        ansatz = RealAmplitudes(2, reps=2)\n",
    "\n",
    "    else:\n",
    "        raise Exception(\"Version not implemented\")\n",
    "    \n",
    "    return feature_map, ansatz\n"
   ]
  },
  {
   "cell_type": "markdown",
   "metadata": {},
   "source": [
    "### Obtain the dataset\n",
    "The dataset is processed through the use a PCA in order to use only two high descriptive features. \n"
   ]
  },
  {
   "cell_type": "code",
   "execution_count": 3,
   "metadata": {},
   "outputs": [
    {
     "name": "stdout",
     "output_type": "stream",
     "text": [
      "[0.90539269 0.07445563]\n",
      "98.0% of total variance is explained by 2 principal components\n"
     ]
    }
   ],
   "source": [
    "# Change to change the dataset\n",
    "dataset = \"iris01\"\n",
    "\n",
    "X_train, X_test, Y_train, Y_test = get_dataset(dataset)"
   ]
  },
  {
   "cell_type": "markdown",
   "metadata": {},
   "source": [
    "### Set the optimizer and the quantum instance\n"
   ]
  },
  {
   "cell_type": "code",
   "execution_count": 4,
   "metadata": {},
   "outputs": [],
   "source": [
    "optimizer = COBYLA(maxiter=max_iter, tol=0.01, disp=False)\n",
    "qinstance = QuantumInstance(Aer.get_backend('aer_simulator'),seed_simulator=seed,seed_transpiler=seed, shots=1024)\n",
    "qinstance.backend.set_option(\"seed_simulator\", seed)\n"
   ]
  },
  {
   "cell_type": "markdown",
   "metadata": {},
   "source": [
    "### The model \n",
    "Build the model with the chosen parameters.\n"
   ]
  },
  {
   "cell_type": "code",
   "execution_count": 31,
   "metadata": {},
   "outputs": [],
   "source": [
    "feature_map = ZZFeatureMap(feature_dimension=2, entanglement='linear')\n",
    "kernel = QuantumKernel(feature_map=feature_map, quantum_instance=qinstance)\n",
    "qsvc = QSVC(quantum_kernel=kernel)\n"
   ]
  },
  {
   "cell_type": "markdown",
   "metadata": {},
   "source": [
    "## Training\n"
   ]
  },
  {
   "cell_type": "code",
   "execution_count": 33,
   "metadata": {},
   "outputs": [
    {
     "data": {
      "text/plain": [
       "<qiskit_machine_learning.algorithms.classifiers.neural_network_classifier.NeuralNetworkClassifier at 0x22a6a8098c8>"
      ]
     },
     "execution_count": 33,
     "metadata": {},
     "output_type": "execute_result"
    }
   ],
   "source": [
    "    qsvc = qsvc.fit(X_train, Y_train)"
   ]
  },
  {
   "cell_type": "code",
   "execution_count": 36,
   "metadata": {},
   "outputs": [],
   "source": [
    "    train_score = qsvc.score(X_train, Y_train)\n",
    "    test_score = qsvc.score(X_test, Y_test)"
   ]
  },
  {
   "cell_type": "code",
   "execution_count": 38,
   "metadata": {},
   "outputs": [
    {
     "name": "stdout",
     "output_type": "stream",
     "text": [
      "0.9\n",
      "0.95\n"
     ]
    }
   ],
   "source": [
    "print(train_score)\n",
    "print(test_score)"
   ]
  }
 ],
 "metadata": {
  "interpreter": {
   "hash": "05b5db03c550bbb1dd6fa082dd54ebcd6c9bc656038265289f06ff834c67727f"
  },
  "kernelspec": {
   "display_name": "Python 3.7.11 ('tesi3')",
   "language": "python",
   "name": "python3"
  },
  "language_info": {
   "codemirror_mode": {
    "name": "ipython",
    "version": 3
   },
   "file_extension": ".py",
   "mimetype": "text/x-python",
   "name": "python",
   "nbconvert_exporter": "python",
   "pygments_lexer": "ipython3",
   "version": "3.7.11"
  },
  "orig_nbformat": 4
 },
 "nbformat": 4,
 "nbformat_minor": 2
}
