{
 "cells": [
  {
   "cell_type": "code",
   "execution_count": 1,
   "metadata": {},
   "outputs": [
    {
     "name": "stderr",
     "output_type": "stream",
     "text": [
      "D:\\conda\\envs\\tesi3\\lib\\site-packages\\qiskit\\aqua\\__init__.py:86: DeprecationWarning: The package qiskit.aqua is deprecated. It was moved/refactored to qiskit-terra For more information see <https://github.com/Qiskit/qiskit-aqua/blob/main/README.md#migration-guide>\n",
      "  warn_package('aqua', 'qiskit-terra')\n"
     ]
    }
   ],
   "source": [
    "from utils.qSLP import qSLP\n",
    "from utils.Utils_pad import padding\n",
    "from utils.Utils import get_params\n",
    "import numpy as np\n",
    "import pandas as pd\n",
    "import matplotlib.pyplot as plt\n",
    "\n",
    "\n",
    "seed = 42\n",
    "\n"
   ]
  },
  {
   "cell_type": "markdown",
   "metadata": {},
   "source": [
    "## Training of the model\n",
    "We train the qSLP model starting from given starting points"
   ]
  },
  {
   "cell_type": "code",
   "execution_count": null,
   "metadata": {},
   "outputs": [],
   "source": [
    "# Change d to change the number of control quibt. Currenly supports d <= 3\n",
    "d = 1\n",
    "\n",
    "# Change pad to change the state preparation technique\n",
    "pad = False\n",
    "\n",
    "#function that returns the best parameters for a given model\n",
    "starting_point = get_params(d, pad)\n",
    "\n",
    "# Choose the dataset between the five proposed \n",
    "dataset = \"iris01\"\n",
    "\n"
   ]
  },
  {
   "cell_type": "markdown",
   "metadata": {},
   "source": [
    "### Obtain the dataset\n",
    "The dataset is processed through the use a PCA in order to use only two high descriptive features. When a padded model is choosen the two feature are further preprocessed."
   ]
  },
  {
   "cell_type": "code",
   "execution_count": null,
   "metadata": {},
   "outputs": [],
   "source": [
    "X_train, X_test, Y_train, Y_test = get_dataset(dataset)\n",
    "if pad:\n",
    "    X_train = padding(X_train)\n",
    "    X_test = padding(X_test)\n"
   ]
  },
  {
   "cell_type": "markdown",
   "metadata": {},
   "source": [
    "### Set the optimizer and the quantum instance"
   ]
  },
  {
   "cell_type": "code",
   "execution_count": null,
   "metadata": {},
   "outputs": [],
   "source": [
    "optimizer = COBYLA(maxiter=max_iter, tol=0.01, disp=False)\n",
    "qinstance = QuantumInstance(Aer.get_backend('aer_simulator'),seed_simulator=seed,seed_transpiler=seed, shots=1024)\n",
    "qinstance.backend.set_option(\"seed_simulator\", seed)\n"
   ]
  },
  {
   "cell_type": "markdown",
   "metadata": {},
   "source": [
    "### The model \n",
    "First we build the model with the parameter we choose."
   ]
  },
  {
   "cell_type": "code",
   "execution_count": null,
   "metadata": {},
   "outputs": [],
   "source": [
    "model = qSLP(d, pad)\n",
    "model.set_weights(starting_point)"
   ]
  },
  {
   "cell_type": "markdown",
   "metadata": {},
   "source": []
  },
  {
   "cell_type": "code",
   "execution_count": null,
   "metadata": {},
   "outputs": [],
   "source": []
  }
 ],
 "metadata": {
  "interpreter": {
   "hash": "05b5db03c550bbb1dd6fa082dd54ebcd6c9bc656038265289f06ff834c67727f"
  },
  "kernelspec": {
   "display_name": "Python 3.7.11 ('tesi3')",
   "language": "python",
   "name": "python3"
  },
  "language_info": {
   "codemirror_mode": {
    "name": "ipython",
    "version": 3
   },
   "file_extension": ".py",
   "mimetype": "text/x-python",
   "name": "python",
   "nbconvert_exporter": "python",
   "pygments_lexer": "ipython3",
   "version": "3.7.11"
  },
  "orig_nbformat": 4
 },
 "nbformat": 4,
 "nbformat_minor": 2
}
